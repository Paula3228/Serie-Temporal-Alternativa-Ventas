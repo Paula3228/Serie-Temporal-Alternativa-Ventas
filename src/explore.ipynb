{
    "cells": [
        {
            "cell_type": "markdown",
            "metadata": {},
            "source": [
                "# Explore here"
            ]
        },
        {
            "cell_type": "code",
            "execution_count": 25,
            "metadata": {},
            "outputs": [],
            "source": [
                "import pandas as pd\n",
                "import numpy as np\n",
                "import matplotlib.pyplot as plt\n",
                "import seaborn as sns\n",
                "from statsmodels.tsa.seasonal import seasonal_decompose\n"
            ]
        },
        {
            "cell_type": "code",
            "execution_count": 26,
            "metadata": {},
            "outputs": [
                {
                    "data": {
                        "text/html": [
                            "<div>\n",
                            "<style scoped>\n",
                            "    .dataframe tbody tr th:only-of-type {\n",
                            "        vertical-align: middle;\n",
                            "    }\n",
                            "\n",
                            "    .dataframe tbody tr th {\n",
                            "        vertical-align: top;\n",
                            "    }\n",
                            "\n",
                            "    .dataframe thead th {\n",
                            "        text-align: right;\n",
                            "    }\n",
                            "</style>\n",
                            "<table border=\"1\" class=\"dataframe\">\n",
                            "  <thead>\n",
                            "    <tr style=\"text-align: right;\">\n",
                            "      <th></th>\n",
                            "      <th>date</th>\n",
                            "      <th>sales</th>\n",
                            "    </tr>\n",
                            "  </thead>\n",
                            "  <tbody>\n",
                            "    <tr>\n",
                            "      <th>0</th>\n",
                            "      <td>2022-09-03 17:10:08.079328</td>\n",
                            "      <td>55.292157</td>\n",
                            "    </tr>\n",
                            "    <tr>\n",
                            "      <th>1</th>\n",
                            "      <td>2022-09-04 17:10:08.079328</td>\n",
                            "      <td>53.803211</td>\n",
                            "    </tr>\n",
                            "    <tr>\n",
                            "      <th>2</th>\n",
                            "      <td>2022-09-05 17:10:08.079328</td>\n",
                            "      <td>58.141693</td>\n",
                            "    </tr>\n",
                            "    <tr>\n",
                            "      <th>3</th>\n",
                            "      <td>2022-09-06 17:10:08.079328</td>\n",
                            "      <td>64.530899</td>\n",
                            "    </tr>\n",
                            "    <tr>\n",
                            "      <th>4</th>\n",
                            "      <td>2022-09-07 17:10:08.079328</td>\n",
                            "      <td>66.013633</td>\n",
                            "    </tr>\n",
                            "    <tr>\n",
                            "      <th>...</th>\n",
                            "      <td>...</td>\n",
                            "      <td>...</td>\n",
                            "    </tr>\n",
                            "    <tr>\n",
                            "      <th>361</th>\n",
                            "      <td>2023-08-30 17:10:08.079328</td>\n",
                            "      <td>989.600354</td>\n",
                            "    </tr>\n",
                            "    <tr>\n",
                            "      <th>362</th>\n",
                            "      <td>2023-08-31 17:10:08.079328</td>\n",
                            "      <td>994.987326</td>\n",
                            "    </tr>\n",
                            "    <tr>\n",
                            "      <th>363</th>\n",
                            "      <td>2023-09-01 17:10:08.079328</td>\n",
                            "      <td>995.814415</td>\n",
                            "    </tr>\n",
                            "    <tr>\n",
                            "      <th>364</th>\n",
                            "      <td>2023-09-02 17:10:08.079328</td>\n",
                            "      <td>997.350214</td>\n",
                            "    </tr>\n",
                            "    <tr>\n",
                            "      <th>365</th>\n",
                            "      <td>2023-09-03 17:10:08.079328</td>\n",
                            "      <td>1000.482785</td>\n",
                            "    </tr>\n",
                            "  </tbody>\n",
                            "</table>\n",
                            "<p>366 rows × 2 columns</p>\n",
                            "</div>"
                        ],
                        "text/plain": [
                            "                           date        sales\n",
                            "0    2022-09-03 17:10:08.079328    55.292157\n",
                            "1    2022-09-04 17:10:08.079328    53.803211\n",
                            "2    2022-09-05 17:10:08.079328    58.141693\n",
                            "3    2022-09-06 17:10:08.079328    64.530899\n",
                            "4    2022-09-07 17:10:08.079328    66.013633\n",
                            "..                          ...          ...\n",
                            "361  2023-08-30 17:10:08.079328   989.600354\n",
                            "362  2023-08-31 17:10:08.079328   994.987326\n",
                            "363  2023-09-01 17:10:08.079328   995.814415\n",
                            "364  2023-09-02 17:10:08.079328   997.350214\n",
                            "365  2023-09-03 17:10:08.079328  1000.482785\n",
                            "\n",
                            "[366 rows x 2 columns]"
                        ]
                    },
                    "execution_count": 26,
                    "metadata": {},
                    "output_type": "execute_result"
                }
            ],
            "source": [
                "# Your code here\n",
                "import os\n",
                "\n",
                "import pandas as pd\n",
                "\n",
                "df = pd.read_csv('https://raw.githubusercontent.com/4GeeksAcademy/alternative-time-series-project/main/sales.csv')\n",
                "\n",
                "df\n"
            ]
        },
        {
            "cell_type": "code",
            "execution_count": 27,
            "metadata": {},
            "outputs": [
                {
                    "name": "stdout",
                    "output_type": "stream",
                    "text": [
                        "<class 'pandas.core.frame.DataFrame'>\n",
                        "RangeIndex: 366 entries, 0 to 365\n",
                        "Data columns (total 2 columns):\n",
                        " #   Column  Non-Null Count  Dtype  \n",
                        "---  ------  --------------  -----  \n",
                        " 0   date    366 non-null    object \n",
                        " 1   sales   366 non-null    float64\n",
                        "dtypes: float64(1), object(1)\n",
                        "memory usage: 5.8+ KB\n"
                    ]
                }
            ],
            "source": [
                "df.info()"
            ]
        },
        {
            "cell_type": "code",
            "execution_count": 28,
            "metadata": {},
            "outputs": [],
            "source": [
                "df['date'] = pd.to_datetime(df['date'])"
            ]
        },
        {
            "cell_type": "code",
            "execution_count": 29,
            "metadata": {},
            "outputs": [
                {
                    "name": "stdout",
                    "output_type": "stream",
                    "text": [
                        "<class 'pandas.core.frame.DataFrame'>\n",
                        "RangeIndex: 366 entries, 0 to 365\n",
                        "Data columns (total 2 columns):\n",
                        " #   Column  Non-Null Count  Dtype         \n",
                        "---  ------  --------------  -----         \n",
                        " 0   date    366 non-null    datetime64[ns]\n",
                        " 1   sales   366 non-null    float64       \n",
                        "dtypes: datetime64[ns](1), float64(1)\n",
                        "memory usage: 5.8 KB\n"
                    ]
                }
            ],
            "source": [
                "df.info()"
            ]
        },
        {
            "cell_type": "code",
            "execution_count": 30,
            "metadata": {},
            "outputs": [
                {
                    "data": {
                        "text/html": [
                            "<div>\n",
                            "<style scoped>\n",
                            "    .dataframe tbody tr th:only-of-type {\n",
                            "        vertical-align: middle;\n",
                            "    }\n",
                            "\n",
                            "    .dataframe tbody tr th {\n",
                            "        vertical-align: top;\n",
                            "    }\n",
                            "\n",
                            "    .dataframe thead th {\n",
                            "        text-align: right;\n",
                            "    }\n",
                            "</style>\n",
                            "<table border=\"1\" class=\"dataframe\">\n",
                            "  <thead>\n",
                            "    <tr style=\"text-align: right;\">\n",
                            "      <th></th>\n",
                            "      <th>date</th>\n",
                            "      <th>sales</th>\n",
                            "    </tr>\n",
                            "  </thead>\n",
                            "  <tbody>\n",
                            "    <tr>\n",
                            "      <th>0</th>\n",
                            "      <td>2022-09-03 17:10:08.079328</td>\n",
                            "      <td>55.292157</td>\n",
                            "    </tr>\n",
                            "    <tr>\n",
                            "      <th>1</th>\n",
                            "      <td>2022-09-04 17:10:08.079328</td>\n",
                            "      <td>53.803211</td>\n",
                            "    </tr>\n",
                            "    <tr>\n",
                            "      <th>2</th>\n",
                            "      <td>2022-09-05 17:10:08.079328</td>\n",
                            "      <td>58.141693</td>\n",
                            "    </tr>\n",
                            "    <tr>\n",
                            "      <th>3</th>\n",
                            "      <td>2022-09-06 17:10:08.079328</td>\n",
                            "      <td>64.530899</td>\n",
                            "    </tr>\n",
                            "    <tr>\n",
                            "      <th>4</th>\n",
                            "      <td>2022-09-07 17:10:08.079328</td>\n",
                            "      <td>66.013633</td>\n",
                            "    </tr>\n",
                            "    <tr>\n",
                            "      <th>...</th>\n",
                            "      <td>...</td>\n",
                            "      <td>...</td>\n",
                            "    </tr>\n",
                            "    <tr>\n",
                            "      <th>361</th>\n",
                            "      <td>2023-08-30 17:10:08.079328</td>\n",
                            "      <td>989.600354</td>\n",
                            "    </tr>\n",
                            "    <tr>\n",
                            "      <th>362</th>\n",
                            "      <td>2023-08-31 17:10:08.079328</td>\n",
                            "      <td>994.987326</td>\n",
                            "    </tr>\n",
                            "    <tr>\n",
                            "      <th>363</th>\n",
                            "      <td>2023-09-01 17:10:08.079328</td>\n",
                            "      <td>995.814415</td>\n",
                            "    </tr>\n",
                            "    <tr>\n",
                            "      <th>364</th>\n",
                            "      <td>2023-09-02 17:10:08.079328</td>\n",
                            "      <td>997.350214</td>\n",
                            "    </tr>\n",
                            "    <tr>\n",
                            "      <th>365</th>\n",
                            "      <td>2023-09-03 17:10:08.079328</td>\n",
                            "      <td>1000.482785</td>\n",
                            "    </tr>\n",
                            "  </tbody>\n",
                            "</table>\n",
                            "<p>366 rows × 2 columns</p>\n",
                            "</div>"
                        ],
                        "text/plain": [
                            "                          date        sales\n",
                            "0   2022-09-03 17:10:08.079328    55.292157\n",
                            "1   2022-09-04 17:10:08.079328    53.803211\n",
                            "2   2022-09-05 17:10:08.079328    58.141693\n",
                            "3   2022-09-06 17:10:08.079328    64.530899\n",
                            "4   2022-09-07 17:10:08.079328    66.013633\n",
                            "..                         ...          ...\n",
                            "361 2023-08-30 17:10:08.079328   989.600354\n",
                            "362 2023-08-31 17:10:08.079328   994.987326\n",
                            "363 2023-09-01 17:10:08.079328   995.814415\n",
                            "364 2023-09-02 17:10:08.079328   997.350214\n",
                            "365 2023-09-03 17:10:08.079328  1000.482785\n",
                            "\n",
                            "[366 rows x 2 columns]"
                        ]
                    },
                    "execution_count": 30,
                    "metadata": {},
                    "output_type": "execute_result"
                }
            ],
            "source": [
                "df"
            ]
        },
        {
            "cell_type": "code",
            "execution_count": 31,
            "metadata": {},
            "outputs": [],
            "source": [
                "df.index = df['date'].dt.date"
            ]
        },
        {
            "cell_type": "code",
            "execution_count": 32,
            "metadata": {},
            "outputs": [
                {
                    "data": {
                        "text/html": [
                            "<div>\n",
                            "<style scoped>\n",
                            "    .dataframe tbody tr th:only-of-type {\n",
                            "        vertical-align: middle;\n",
                            "    }\n",
                            "\n",
                            "    .dataframe tbody tr th {\n",
                            "        vertical-align: top;\n",
                            "    }\n",
                            "\n",
                            "    .dataframe thead th {\n",
                            "        text-align: right;\n",
                            "    }\n",
                            "</style>\n",
                            "<table border=\"1\" class=\"dataframe\">\n",
                            "  <thead>\n",
                            "    <tr style=\"text-align: right;\">\n",
                            "      <th></th>\n",
                            "      <th>date</th>\n",
                            "      <th>sales</th>\n",
                            "    </tr>\n",
                            "    <tr>\n",
                            "      <th>date</th>\n",
                            "      <th></th>\n",
                            "      <th></th>\n",
                            "    </tr>\n",
                            "  </thead>\n",
                            "  <tbody>\n",
                            "    <tr>\n",
                            "      <th>2022-09-03</th>\n",
                            "      <td>2022-09-03 17:10:08.079328</td>\n",
                            "      <td>55.292157</td>\n",
                            "    </tr>\n",
                            "    <tr>\n",
                            "      <th>2022-09-04</th>\n",
                            "      <td>2022-09-04 17:10:08.079328</td>\n",
                            "      <td>53.803211</td>\n",
                            "    </tr>\n",
                            "    <tr>\n",
                            "      <th>2022-09-05</th>\n",
                            "      <td>2022-09-05 17:10:08.079328</td>\n",
                            "      <td>58.141693</td>\n",
                            "    </tr>\n",
                            "    <tr>\n",
                            "      <th>2022-09-06</th>\n",
                            "      <td>2022-09-06 17:10:08.079328</td>\n",
                            "      <td>64.530899</td>\n",
                            "    </tr>\n",
                            "    <tr>\n",
                            "      <th>2022-09-07</th>\n",
                            "      <td>2022-09-07 17:10:08.079328</td>\n",
                            "      <td>66.013633</td>\n",
                            "    </tr>\n",
                            "    <tr>\n",
                            "      <th>...</th>\n",
                            "      <td>...</td>\n",
                            "      <td>...</td>\n",
                            "    </tr>\n",
                            "    <tr>\n",
                            "      <th>2023-08-30</th>\n",
                            "      <td>2023-08-30 17:10:08.079328</td>\n",
                            "      <td>989.600354</td>\n",
                            "    </tr>\n",
                            "    <tr>\n",
                            "      <th>2023-08-31</th>\n",
                            "      <td>2023-08-31 17:10:08.079328</td>\n",
                            "      <td>994.987326</td>\n",
                            "    </tr>\n",
                            "    <tr>\n",
                            "      <th>2023-09-01</th>\n",
                            "      <td>2023-09-01 17:10:08.079328</td>\n",
                            "      <td>995.814415</td>\n",
                            "    </tr>\n",
                            "    <tr>\n",
                            "      <th>2023-09-02</th>\n",
                            "      <td>2023-09-02 17:10:08.079328</td>\n",
                            "      <td>997.350214</td>\n",
                            "    </tr>\n",
                            "    <tr>\n",
                            "      <th>2023-09-03</th>\n",
                            "      <td>2023-09-03 17:10:08.079328</td>\n",
                            "      <td>1000.482785</td>\n",
                            "    </tr>\n",
                            "  </tbody>\n",
                            "</table>\n",
                            "<p>366 rows × 2 columns</p>\n",
                            "</div>"
                        ],
                        "text/plain": [
                            "                                 date        sales\n",
                            "date                                              \n",
                            "2022-09-03 2022-09-03 17:10:08.079328    55.292157\n",
                            "2022-09-04 2022-09-04 17:10:08.079328    53.803211\n",
                            "2022-09-05 2022-09-05 17:10:08.079328    58.141693\n",
                            "2022-09-06 2022-09-06 17:10:08.079328    64.530899\n",
                            "2022-09-07 2022-09-07 17:10:08.079328    66.013633\n",
                            "...                               ...          ...\n",
                            "2023-08-30 2023-08-30 17:10:08.079328   989.600354\n",
                            "2023-08-31 2023-08-31 17:10:08.079328   994.987326\n",
                            "2023-09-01 2023-09-01 17:10:08.079328   995.814415\n",
                            "2023-09-02 2023-09-02 17:10:08.079328   997.350214\n",
                            "2023-09-03 2023-09-03 17:10:08.079328  1000.482785\n",
                            "\n",
                            "[366 rows x 2 columns]"
                        ]
                    },
                    "execution_count": 32,
                    "metadata": {},
                    "output_type": "execute_result"
                }
            ],
            "source": [
                "df"
            ]
        },
        {
            "cell_type": "code",
            "execution_count": 33,
            "metadata": {},
            "outputs": [
                {
                    "data": {
                        "image/png": "[encoded data removed]",
                        "text/plain": [
                            "<Figure size 1000x500 with 1 Axes>"
                        ]
                    },
                    "metadata": {},
                    "output_type": "display_data"
                }
            ],
            "source": [
                "import matplotlib.pyplot as plt\n",
                "import seaborn as sns\n",
                "\n",
                "fig, axis = plt.subplots(figsize = (10, 5))\n",
                "\n",
                "sns.lineplot(data = df)\n",
                "\n",
                "plt.tight_layout()\n",
                "\n",
                "plt.show()"
            ]
        },
        {
            "cell_type": "code",
            "execution_count": 34,
            "metadata": {},
            "outputs": [
                {
                    "ename": "TypeError",
                    "evalue": "float() argument must be a string or a real number, not 'Timestamp'",
                    "output_type": "error",
                    "traceback": [
                        "\u001b[31m---------------------------------------------------------------------------\u001b[39m",
                        "\u001b[31mTypeError\u001b[39m                                 Traceback (most recent call last)",
                        "\u001b[32m/tmp/ipykernel_4852/3596241862.py\u001b[39m in \u001b[36m?\u001b[39m\u001b[34m()\u001b[39m\n\u001b[32m      1\u001b[39m \u001b[38;5;28;01mfrom\u001b[39;00m statsmodels.tsa.seasonal \u001b[38;5;28;01mimport\u001b[39;00m seasonal_decompose\n\u001b[32m      2\u001b[39m \n\u001b[32m----> \u001b[39m\u001b[32m3\u001b[39m decomposition = seasonal_decompose(df, period = \u001b[32m30\u001b[39m)\n\u001b[32m      4\u001b[39m decomposition\n",
                        "\u001b[32m~/.local/lib/python3.11/site-packages/statsmodels/tsa/seasonal.py\u001b[39m in \u001b[36m?\u001b[39m\u001b[34m(x, model, filt, period, two_sided, extrapolate_trend)\u001b[39m\n\u001b[32m    146\u001b[39m     pw = PandasWrapper(x)\n\u001b[32m    147\u001b[39m     \u001b[38;5;28;01mif\u001b[39;00m period \u001b[38;5;28;01mis\u001b[39;00m \u001b[38;5;28;01mNone\u001b[39;00m:\n\u001b[32m    148\u001b[39m         pfreq = getattr(getattr(x, \u001b[33m\"index\"\u001b[39m, \u001b[38;5;28;01mNone\u001b[39;00m), \u001b[33m\"inferred_freq\"\u001b[39m, \u001b[38;5;28;01mNone\u001b[39;00m)\n\u001b[32m    149\u001b[39m \n\u001b[32m--> \u001b[39m\u001b[32m150\u001b[39m     x = array_like(x, \u001b[33m\"x\"\u001b[39m, maxdim=\u001b[32m2\u001b[39m)\n\u001b[32m    151\u001b[39m     nobs = len(x)\n\u001b[32m    152\u001b[39m \n\u001b[32m    153\u001b[39m     \u001b[38;5;28;01mif\u001b[39;00m \u001b[38;5;28;01mnot\u001b[39;00m np.all(np.isfinite(x)):\n",
                        "\u001b[32m~/.local/lib/python3.11/site-packages/statsmodels/tools/validation/validation.py\u001b[39m in \u001b[36m?\u001b[39m\u001b[34m(obj, name, dtype, ndim, maxdim, shape, order, contiguous, optional, writeable)\u001b[39m\n\u001b[32m    139\u001b[39m     \u001b[38;5;28;01mif\u001b[39;00m order == \u001b[33m\"C\"\u001b[39m \u001b[38;5;28;01mor\u001b[39;00m contiguous:\n\u001b[32m    140\u001b[39m         reqs += [\u001b[33m\"C\"\u001b[39m]\n\u001b[32m    141\u001b[39m     \u001b[38;5;28;01melif\u001b[39;00m order == \u001b[33m\"F\"\u001b[39m:\n\u001b[32m    142\u001b[39m         reqs += [\u001b[33m\"F\"\u001b[39m]\n\u001b[32m--> \u001b[39m\u001b[32m143\u001b[39m     arr = np.require(obj, dtype=dtype, requirements=reqs)\n\u001b[32m    144\u001b[39m     \u001b[38;5;28;01mif\u001b[39;00m maxdim \u001b[38;5;28;01mis\u001b[39;00m \u001b[38;5;28;01mnot\u001b[39;00m \u001b[38;5;28;01mNone\u001b[39;00m:\n\u001b[32m    145\u001b[39m         \u001b[38;5;28;01mif\u001b[39;00m arr.ndim > maxdim:\n\u001b[32m    146\u001b[39m             msg = \u001b[33mf\"{name} must have ndim <= {maxdim}\"\u001b[39m\n",
                        "\u001b[32m~/.local/lib/python3.11/site-packages/numpy/_core/_asarray.py\u001b[39m in \u001b[36m?\u001b[39m\u001b[34m(a, dtype, requirements, like)\u001b[39m\n",
                        "\u001b[32m~/.local/lib/python3.11/site-packages/pandas/core/generic.py\u001b[39m in \u001b[36m?\u001b[39m\u001b[34m(self, dtype, copy)\u001b[39m\n\u001b[32m   2149\u001b[39m     def __array__(\n\u001b[32m   2150\u001b[39m         self, dtype: npt.DTypeLike | \u001b[38;5;28;01mNone\u001b[39;00m = \u001b[38;5;28;01mNone\u001b[39;00m, copy: bool_t | \u001b[38;5;28;01mNone\u001b[39;00m = \u001b[38;5;28;01mNone\u001b[39;00m\n\u001b[32m   2151\u001b[39m     ) -> np.ndarray:\n\u001b[32m   2152\u001b[39m         values = self._values\n\u001b[32m-> \u001b[39m\u001b[32m2153\u001b[39m         arr = np.asarray(values, dtype=dtype)\n\u001b[32m   2154\u001b[39m         if (\n\u001b[32m   2155\u001b[39m             astype_is_view(values.dtype, arr.dtype)\n\u001b[32m   2156\u001b[39m             \u001b[38;5;28;01mand\u001b[39;00m using_copy_on_write()\n",
                        "\u001b[31mTypeError\u001b[39m: float() argument must be a string or a real number, not 'Timestamp'"
                    ]
                }
            ],
            "source": [
                "from statsmodels.tsa.seasonal import seasonal_decompose\n",
                "\n",
                "decomposition = seasonal_decompose(df, period = 30)\n",
                "decomposition"
            ]
        },
        {
            "cell_type": "code",
            "execution_count": null,
            "metadata": {},
            "outputs": [
                {
                    "ename": "NameError",
                    "evalue": "name 'decomposition' is not defined",
                    "output_type": "error",
                    "traceback": [
                        "\u001b[31m---------------------------------------------------------------------------\u001b[39m",
                        "\u001b[31mNameError\u001b[39m                                 Traceback (most recent call last)",
                        "\u001b[36mCell\u001b[39m\u001b[36m \u001b[39m\u001b[32mIn[11]\u001b[39m\u001b[32m, line 1\u001b[39m\n\u001b[32m----> \u001b[39m\u001b[32m1\u001b[39m trend = \u001b[43mdecomposition\u001b[49m.trend\n\u001b[32m      3\u001b[39m fig, axis = plt.subplots(figsize = (\u001b[32m10\u001b[39m, \u001b[32m5\u001b[39m))\n\u001b[32m      5\u001b[39m sns.lineplot(data = df)\n",
                        "\u001b[31mNameError\u001b[39m: name 'decomposition' is not defined"
                    ]
                }
            ],
            "source": [
                "trend = decomposition.trend\n",
                "\n",
                "fig, axis = plt.subplots(figsize = (10, 5))\n",
                "\n",
                "sns.lineplot(data = df)\n",
                "sns.lineplot(data = trend)\n",
                "\n",
                "plt.tight_layout()\n",
                "\n",
                "plt.show()"
            ]
        },
        {
            "cell_type": "code",
            "execution_count": null,
            "metadata": {},
            "outputs": [
                {
                    "ename": "NameError",
                    "evalue": "name 'decomposition' is not defined",
                    "output_type": "error",
                    "traceback": [
                        "\u001b[31m---------------------------------------------------------------------------\u001b[39m",
                        "\u001b[31mNameError\u001b[39m                                 Traceback (most recent call last)",
                        "\u001b[36mCell\u001b[39m\u001b[36m \u001b[39m\u001b[32mIn[16]\u001b[39m\u001b[32m, line 1\u001b[39m\n\u001b[32m----> \u001b[39m\u001b[32m1\u001b[39m trend = \u001b[43mdecomposition\u001b[49m.trend\n\u001b[32m      3\u001b[39m fig, axis = plt.subplots(figsize = (\u001b[32m10\u001b[39m, \u001b[32m5\u001b[39m))\n\u001b[32m      5\u001b[39m sns.lineplot(data = df)\n",
                        "\u001b[31mNameError\u001b[39m: name 'decomposition' is not defined"
                    ]
                }
            ],
            "source": [
                "trend = decomposition.trend\n",
                "\n",
                "fig, axis = plt.subplots(figsize = (10, 5))\n",
                "\n",
                "sns.lineplot(data = df)\n",
                "sns.lineplot(data = trend)\n",
                "\n",
                "plt.tight_layout()\n",
                "\n",
                "plt.show()"
            ]
        },
        {
            "cell_type": "code",
            "execution_count": null,
            "metadata": {},
            "outputs": [],
            "source": [
                "from statsmodels.tsa.stattools import adfuller\n",
                "\n",
                "def test_stationarity(timeseries):\n",
                "    print(\"Resultados de la prueba de Dickey-Fuller:\")\n",
                "    dftest = adfuller(timeseries, autolag = \"AIC\")\n",
                "    dfoutput = pd.Series(dftest[0:4], index = [\"Test Statistic\", \"p-value\", \"#Lags Used\", \"Number of Observations Used\"])\n",
                "    for key,value in dftest[4].items():\n",
                "        dfoutput[\"Critical Value (%s)\"%key] = value\n",
                "    return dfoutput\n",
                "\n",
                "test_stationarity(df)"
            ]
        },
        {
            "cell_type": "code",
            "execution_count": null,
            "metadata": {},
            "outputs": [],
            "source": [
                "ruido = decomposition.resid\n",
                "\n",
                "fig, axis = plt.subplots(figsize = (10, 5))\n",
                "\n",
                "sns.lineplot(data = df)\n",
                "sns.lineplot(data = ruido)\n",
                "\n",
                "plt.tight_layout()\n",
                "\n",
                "plt.show()"
            ]
        },
        {
            "cell_type": "code",
            "execution_count": null,
            "metadata": {},
            "outputs": [],
            "source": [
                "seasonal = decomposition.seasonal\n",
                "\n",
                "fig, axis = plt.subplots(figsize = (10, 5))\n",
                "\n",
                "sns.lineplot(data = df)\n",
                "sns.lineplot(data = seasonal)\n",
                "\n",
                "plt.tight_layout()\n",
                "\n",
                "plt.show()"
            ]
        },
        {
            "cell_type": "code",
            "execution_count": null,
            "metadata": {},
            "outputs": [],
            "source": [
                "fig = decomposition.plot()\n",
                "fig.set_size_inches((16, 9))\n",
                "# Tight layout to realign things\n",
                "fig.tight_layout()\n",
                "plt.show()"
            ]
        },
        {
            "cell_type": "code",
            "execution_count": null,
            "metadata": {},
            "outputs": [],
            "source": [
                "from statsmodels.graphics.tsaplots import plot_acf\n",
                "import matplotlib.pyplot as plt\n",
                "\n",
                "plot_acf(df)\n",
                "\n",
                "plt.tight_layout()\n",
                "\n",
                "plt.show()"
            ]
        },
        {
            "cell_type": "code",
            "execution_count": null,
            "metadata": {},
            "outputs": [],
            "source": [
                "df.index = pd.to_datetime(df.index)\n",
                "train = df.loc[:'2023-08-03']\n",
                "test = df.loc['2023-08-04':]"
            ]
        },
        {
            "cell_type": "code",
            "execution_count": null,
            "metadata": {},
            "outputs": [],
            "source": [
                "train"
            ]
        },
        {
            "cell_type": "code",
            "execution_count": null,
            "metadata": {},
            "outputs": [],
            "source": [
                "from pmdarima import auto_arima\n",
                "\n",
                "model = auto_arima(train, seasonal = False, trace = True)"
            ]
        },
        {
            "cell_type": "code",
            "execution_count": null,
            "metadata": {},
            "outputs": [],
            "source": [
                "test.info()"
            ]
        },
        {
            "cell_type": "code",
            "execution_count": null,
            "metadata": {},
            "outputs": [],
            "source": [
                "model.summary()"
            ]
        },
        {
            "cell_type": "code",
            "execution_count": null,
            "metadata": {},
            "outputs": [],
            "source": [
                "mes_predicho = model.predict(31)"
            ]
        },
        {
            "cell_type": "code",
            "execution_count": null,
            "metadata": {},
            "outputs": [],
            "source": [
                "from sklearn.metrics import mean_squared_error\n",
                "\n",
                "mean_squared_error(test,mes_predicho)"
            ]
        },
        {
            "cell_type": "code",
            "execution_count": null,
            "metadata": {},
            "outputs": [],
            "source": [
                "fig, axis = plt.subplots(figsize = (10, 5))\n",
                "\n",
                "sns.lineplot(data = test)\n",
                "sns.lineplot(data = mes_predicho)\n",
                "\n",
                "plt.tight_layout()\n",
                "\n",
                "plt.show()"
            ]
        }
    ],
    "metadata": {
        "kernelspec": {
            "display_name": "Python 3",
            "language": "python",
            "name": "python3"
        },
        "language_info": {
            "codemirror_mode": {
                "name": "ipython",
                "version": 3
            },
            "file_extension": ".py",
            "mimetype": "text/x-python",
            "name": "python",
            "nbconvert_exporter": "python",
            "pygments_lexer": "ipython3",
            "version": "3.11.4"
        },
        "orig_nbformat": 4
    },
    "nbformat": 4,
    "nbformat_minor": 2
}
